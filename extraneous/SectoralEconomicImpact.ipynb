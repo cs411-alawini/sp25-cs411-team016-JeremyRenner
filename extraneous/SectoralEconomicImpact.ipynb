{
 "cells": [
  {
   "cell_type": "code",
   "execution_count": 25,
   "metadata": {},
   "outputs": [],
   "source": [
    "import pandas as pd"
   ]
  },
  {
   "cell_type": "code",
   "execution_count": 26,
   "metadata": {},
   "outputs": [],
   "source": [
    "ag_growth = pd.read_csv(\"datasets/micro_datasets/agri_timeline.csv\")\n",
    "industry_growth = pd.read_csv(\"datasets/micro_datasets/industry_timeline.csv\")\n",
    "manu_growth = pd.read_csv(\"datasets/micro_datasets/manufacturing_timeline.csv\")\n",
    "service_growth = pd.read_csv(\"datasets/micro_datasets/service_timeline.csv\")"
   ]
  },
  {
   "cell_type": "code",
   "execution_count": 27,
   "metadata": {},
   "outputs": [],
   "source": [
    "def parse_tl_csv(df): \n",
    "    # fortmat to long format\n",
    "    df_converted = df.melt(\n",
    "        id_vars=[\"Country Name\", \"Country Code\", \"Indicator Name\", \"Indicator Code\"],\n",
    "        var_name=\"Year\",\n",
    "        value_name=\"Value\"\n",
    "    )\n",
    "\n",
    "    df_converted[\"Year\"] = pd.to_numeric(df_converted[\"Year\"], errors=\"coerce\").astype(\"Int64\")\n",
    "    df_converted = df_converted.dropna(subset=[\"Value\"])\n",
    "    \n",
    "    return df_converted"
   ]
  },
  {
   "cell_type": "code",
   "execution_count": 28,
   "metadata": {},
   "outputs": [],
   "source": [
    "ag_growth = parse_tl_csv(ag_growth)\n",
    "industry_growth = parse_tl_csv(industry_growth)\n",
    "manu_growth = parse_tl_csv(manu_growth)\n",
    "service_growth = parse_tl_csv(service_growth)"
   ]
  },
  {
   "cell_type": "code",
   "execution_count": 29,
   "metadata": {},
   "outputs": [],
   "source": [
    "ag_growth.rename(columns={'Value': 'Agriculture Value Added (Annual % Growth)'}, inplace=True)\n",
    "ag_growth.drop(['Indicator Name', 'Indicator Code', 'Country Code'], axis=1, inplace=True)\n",
    "\n",
    "industry_growth.rename(columns={'Value': 'Industry Value Added (Annual % Growth)'}, inplace=True)\n",
    "industry_growth.drop(['Indicator Name', 'Indicator Code', 'Country Code'], axis=1, inplace=True)\n",
    "\n",
    "manu_growth.rename(columns={'Value': 'Manufacturing Value Added (Annual % Growth)'}, inplace=True)\n",
    "manu_growth.drop(['Indicator Name', 'Indicator Code', 'Country Code'], axis=1, inplace=True)\n",
    "\n",
    "service_growth.rename(columns={'Value': 'Service Value Added (Annual % Growth)'}, inplace=True)\n",
    "service_growth.drop(['Indicator Name', 'Indicator Code', 'Country Code'], axis=1, inplace=True)"
   ]
  },
  {
   "cell_type": "code",
   "execution_count": 30,
   "metadata": {},
   "outputs": [],
   "source": [
    "final_df = pd.merge(ag_growth, industry_growth, on=['Year', 'Country Name'], how='inner')\n",
    "final_df = pd.merge(final_df, manu_growth, on=['Year', 'Country Name'], how='inner')\n",
    "final_df = pd.merge(final_df, service_growth, on=['Year', 'Country Name'], how='inner')"
   ]
  },
  {
   "cell_type": "code",
   "execution_count": 35,
   "metadata": {},
   "outputs": [
    {
     "data": {
      "text/html": [
       "<div>\n",
       "<style scoped>\n",
       "    .dataframe tbody tr th:only-of-type {\n",
       "        vertical-align: middle;\n",
       "    }\n",
       "\n",
       "    .dataframe tbody tr th {\n",
       "        vertical-align: top;\n",
       "    }\n",
       "\n",
       "    .dataframe thead th {\n",
       "        text-align: right;\n",
       "    }\n",
       "</style>\n",
       "<table border=\"1\" class=\"dataframe\">\n",
       "  <thead>\n",
       "    <tr style=\"text-align: right;\">\n",
       "      <th></th>\n",
       "      <th>Country Name</th>\n",
       "      <th>Year</th>\n",
       "      <th>Agriculture Value Added (Annual % Growth)</th>\n",
       "      <th>Industry Value Added (Annual % Growth)</th>\n",
       "      <th>Manufacturing Value Added (Annual % Growth)</th>\n",
       "      <th>Service Value Added (Annual % Growth)</th>\n",
       "    </tr>\n",
       "  </thead>\n",
       "  <tbody>\n",
       "  </tbody>\n",
       "</table>\n",
       "</div>"
      ],
      "text/plain": [
       "Empty DataFrame\n",
       "Columns: [Country Name, Year, Agriculture Value Added (Annual % Growth), Industry Value Added (Annual % Growth), Manufacturing Value Added (Annual % Growth), Service Value Added (Annual % Growth)]\n",
       "Index: []"
      ]
     },
     "execution_count": 35,
     "metadata": {},
     "output_type": "execute_result"
    }
   ],
   "source": [
    "final_df[final_df['Country Name'] == \"United States\"]"
   ]
  },
  {
   "cell_type": "code",
   "execution_count": null,
   "metadata": {},
   "outputs": [],
   "source": []
  },
  {
   "cell_type": "code",
   "execution_count": null,
   "metadata": {},
   "outputs": [],
   "source": []
  }
 ],
 "metadata": {
  "kernelspec": {
   "display_name": "Python 3",
   "language": "python",
   "name": "python3"
  },
  "language_info": {
   "codemirror_mode": {
    "name": "ipython",
    "version": 3
   },
   "file_extension": ".py",
   "mimetype": "text/x-python",
   "name": "python",
   "nbconvert_exporter": "python",
   "pygments_lexer": "ipython3",
   "version": "3.13.0"
  }
 },
 "nbformat": 4,
 "nbformat_minor": 2
}
