{
 "cells": [
  {
   "cell_type": "code",
   "execution_count": null,
   "metadata": {},
   "outputs": [],
   "source": [
    "import pandas as pd\n",
    "\n",
    "def parse_tl_csv(filepath, skiprows=3):\n",
    "    df = pd.read_csv(filepath, skiprows=skiprows)\n",
    "    \n",
    "    df = df.melt(\n",
    "        id_vars=[\"Country Name\", \"Country Code\", \"Indicator Name\", \"Indicator Code\"],\n",
    "        var_name=\"Year\",\n",
    "        value_name=\"Value\"\n",
    "    )\n",
    "    \n",
    "    df[\"Year\"] = pd.to_numeric(df[\"Year\"], errors=\"coerce\").astype(\"Int64\")\n",
    "    df = df.dropna(subset=[\"Value\"])\n",
    "    return df"
   ]
  },
  {
   "cell_type": "code",
   "execution_count": null,
   "metadata": {},
   "outputs": [],
   "source": [
    "cpi_df = parse_tl_csv(\"national_data/consumer price idx/cpi.csv\")\n",
    "export_growth_df = parse_tl_csv(\"national_data/export growth/export_growth.csv\")\n",
    "gdp_growth_df = parse_tl_csv(\"national_data/gdp growth/gdp_growth.csv\")\n",
    "import_growth_df = parse_tl_csv(\"national_data/import growth/import_growth.csv\")\n",
    "unemployment_df = parse_tl_csv(\"national_data/unemployment/unemployment.csv\")"
   ]
  },
  {
   "cell_type": "code",
   "execution_count": null,
   "metadata": {},
   "outputs": [],
   "source": [
    "cpi_df.rename(columns={'Value': 'Consumer price index (2010 = 100)'}, inplace=True)\n",
    "cpi_df.drop(['Indicator Name', 'Indicator Code', 'Country Code'], axis=1, inplace=True)\n",
    "\n",
    "export_growth_df.rename(columns={'Value': 'Exports (Annual % Growth)'}, inplace=True)\n",
    "export_growth_df.drop(['Indicator Name', 'Indicator Code', 'Country Code'], axis=1, inplace=True)\n",
    "\n",
    "gdp_growth_df.rename(columns={'Value': 'GDP (Annual % Growth)'}, inplace=True)\n",
    "gdp_growth_df.drop(['Indicator Name', 'Indicator Code', 'Country Code'], axis=1, inplace=True)\n",
    "\n",
    "import_growth_df.rename(columns={'Value': 'Import (Annual % Growth)'}, inplace=True)\n",
    "import_growth_df.drop(['Indicator Name', 'Indicator Code', 'Country Code'], axis=1, inplace=True)\n",
    "\n",
    "unemployment_df.rename(columns={'Value': 'Unemployment %'}, inplace=True)\n",
    "unemployment_df.drop(['Indicator Name', 'Indicator Code', 'Country Code'], axis=1, inplace=True)"
   ]
  },
  {
   "cell_type": "code",
   "execution_count": null,
   "metadata": {},
   "outputs": [],
   "source": [
    "final_df = pd.merge(cpi_df, export_growth_df, on=['Year', 'Country Name'], how='inner')\n",
    "final_df = pd.merge(final_df, gdp_growth_df, on=['Year', 'Country Name'], how='inner')\n",
    "final_df = pd.merge(final_df, import_growth_df, on=['Year', 'Country Name'], how='inner')\n",
    "final_df = pd.merge(final_df, unemployment_df, on=['Year', 'Country Name'], how='inner')"
   ]
  },
  {
   "cell_type": "code",
   "execution_count": null,
   "metadata": {},
   "outputs": [],
   "source": [
    "final_df"
   ]
  }
 ],
 "metadata": {
  "kernelspec": {
   "display_name": "Python 3",
   "language": "python",
   "name": "python3"
  },
  "language_info": {
   "codemirror_mode": {
    "name": "ipython",
    "version": 3
   },
   "file_extension": ".py",
   "mimetype": "text/x-python",
   "name": "python",
   "nbconvert_exporter": "python",
   "pygments_lexer": "ipython3",
   "version": "3.13.0"
  },
  "orig_nbformat": 4
 },
 "nbformat": 4,
 "nbformat_minor": 2
}
